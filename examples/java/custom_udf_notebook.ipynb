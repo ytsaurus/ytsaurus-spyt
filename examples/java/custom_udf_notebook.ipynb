{
 "cells": [
  {
   "cell_type": "code",
   "execution_count": 5,
   "metadata": {
    "ExecuteTime": {
     "end_time": "2020-03-17T08:42:47.097369Z",
     "start_time": "2020-03-17T08:42:47.092553Z"
    }
   },
   "outputs": [],
   "source": [
    "import spyt\n",
    "import pyspark.sql.functions as F\n",
    "\n",
    "from custom_udf import parse_string, contains"
   ]
  },
  {
   "cell_type": "code",
   "execution_count": 6,
   "metadata": {
    "ExecuteTime": {
     "end_time": "2020-03-17T08:42:57.886847Z",
     "start_time": "2020-03-17T08:42:49.899828Z"
    }
   },
   "outputs": [],
   "source": [
    "spark = spyt.connect(\n",
    "    yt_proxy=\"hume\",\n",
    "    spark_conf_args={\n",
    "        \"spark.jars\": \"yt:///home/sashbel/spark-over-yt-examples-0.0.2-SNAPSHOT-jar-with-dependencies.jar\"\n",
    "    }\n",
    ")"
   ]
  },
  {
   "cell_type": "code",
   "execution_count": 7,
   "metadata": {
    "ExecuteTime": {
     "end_time": "2020-03-17T08:42:57.963630Z",
     "start_time": "2020-03-17T08:42:57.893469Z"
    }
   },
   "outputs": [
    {
     "data": {
      "text/html": [
       "\n",
       "            <div>\n",
       "                <p><b>SparkSession - in-memory</b></p>\n",
       "                \n",
       "        <div>\n",
       "            <p><b>SparkContext</b></p>\n",
       "\n",
       "            <p><a href=\"http://jupyter-cloud-sashbel.sas.yp-c.yandex.net:27002\">Spark UI</a></p>\n",
       "\n",
       "            <dl>\n",
       "              <dt>Version</dt>\n",
       "                <dd><code>v2.4.4</code></dd>\n",
       "              <dt>Master</dt>\n",
       "                <dd><code>spark://man2-4294-4a0.hume.yt.gencfg-c.yandex.net:27001</code></dd>\n",
       "              <dt>AppName</dt>\n",
       "                <dd><code>PySpark for sashbel</code></dd>\n",
       "            </dl>\n",
       "        </div>\n",
       "        \n",
       "            </div>\n",
       "        "
      ],
      "text/plain": [
       "<pyspark.sql.session.SparkSession at 0x7f7e36f1e7d0>"
      ]
     },
     "execution_count": 7,
     "metadata": {},
     "output_type": "execute_result"
    }
   ],
   "source": [
    "spark"
   ]
  },
  {
   "cell_type": "code",
   "execution_count": 8,
   "metadata": {
    "ExecuteTime": {
     "end_time": "2020-03-17T08:43:05.820107Z",
     "start_time": "2020-03-17T08:43:03.292943Z"
    }
   },
   "outputs": [],
   "source": [
    "df = spark.read.yt(\"//sys/spark/examples/example_1\")"
   ]
  },
  {
   "cell_type": "code",
   "execution_count": 9,
   "metadata": {
    "ExecuteTime": {
     "end_time": "2020-03-17T08:43:15.522994Z",
     "start_time": "2020-03-17T08:43:05.821458Z"
    }
   },
   "outputs": [
    {
     "name": "stdout",
     "output_type": "stream",
     "text": [
      "+---+--------------------+\n",
      "| id|                uuid|\n",
      "+---+--------------------+\n",
      "|  1|bdc3aa61-cf2e-435...|\n",
      "|  2|79f9566a-b9fc-44b...|\n",
      "|  3|9f8ea8a8-97cd-44b...|\n",
      "|  4|3dca3b34-5210-4aa...|\n",
      "|  5|65d97e4d-21f2-449...|\n",
      "|  6|cee5a7ec-1962-40e...|\n",
      "|  7|9a5088bc-21f3-4e1...|\n",
      "|  8|c3a1d801-35f0-45f...|\n",
      "|  9|f9c8c91b-24db-48d...|\n",
      "| 10|3535e360-9244-46f...|\n",
      "| 11|2e5c9611-a228-4e8...|\n",
      "| 12|6efca41f-7b13-4f1...|\n",
      "| 13|4c4ff81e-d5c1-4ec...|\n",
      "| 14|7e3368f3-64cf-4af...|\n",
      "| 15|3e250454-5a3d-473...|\n",
      "| 16|48b89381-4eaa-49d...|\n",
      "| 17|3fbeebb5-e13e-412...|\n",
      "| 18|68ffe6c3-2096-43f...|\n",
      "| 19|ba33e170-32a9-459...|\n",
      "| 20|4a192a1e-d79e-459...|\n",
      "+---+--------------------+\n",
      "only showing top 20 rows\n",
      "\n"
     ]
    }
   ],
   "source": [
    "df.show()"
   ]
  },
  {
   "cell_type": "code",
   "execution_count": 10,
   "metadata": {
    "ExecuteTime": {
     "end_time": "2020-03-17T08:43:19.518481Z",
     "start_time": "2020-03-17T08:43:15.524383Z"
    }
   },
   "outputs": [
    {
     "name": "stdout",
     "output_type": "stream",
     "text": [
      "+---+--------------------+-----+\n",
      "| id|                uuid| test|\n",
      "+---+--------------------+-----+\n",
      "|  1|bdc3aa61-cf2e-435...| true|\n",
      "|  2|79f9566a-b9fc-44b...|false|\n",
      "|  3|9f8ea8a8-97cd-44b...|false|\n",
      "|  4|3dca3b34-5210-4aa...| true|\n",
      "|  5|65d97e4d-21f2-449...|false|\n",
      "|  6|cee5a7ec-1962-40e...|false|\n",
      "|  7|9a5088bc-21f3-4e1...|false|\n",
      "|  8|c3a1d801-35f0-45f...|false|\n",
      "|  9|f9c8c91b-24db-48d...| true|\n",
      "| 10|3535e360-9244-46f...|false|\n",
      "| 11|2e5c9611-a228-4e8...|false|\n",
      "| 12|6efca41f-7b13-4f1...|false|\n",
      "| 13|4c4ff81e-d5c1-4ec...|false|\n",
      "| 14|7e3368f3-64cf-4af...|false|\n",
      "| 15|3e250454-5a3d-473...|false|\n",
      "| 16|48b89381-4eaa-49d...| true|\n",
      "| 17|3fbeebb5-e13e-412...|false|\n",
      "| 18|68ffe6c3-2096-43f...|false|\n",
      "| 19|ba33e170-32a9-459...|false|\n",
      "| 20|4a192a1e-d79e-459...|false|\n",
      "+---+--------------------+-----+\n",
      "only showing top 20 rows\n",
      "\n"
     ]
    }
   ],
   "source": [
    "df.withColumn(\"test\", contains(F.col(\"uuid\"), \"aa\")).show()"
   ]
  },
  {
   "cell_type": "code",
   "execution_count": 11,
   "metadata": {
    "ExecuteTime": {
     "end_time": "2020-03-17T08:43:20.067791Z",
     "start_time": "2020-03-17T08:43:19.520896Z"
    }
   },
   "outputs": [
    {
     "name": "stdout",
     "output_type": "stream",
     "text": [
      "+---+--------------------+----+\n",
      "| id|                uuid|test|\n",
      "+---+--------------------+----+\n",
      "|  1|bdc3aa61-cf2e-435...|   1|\n",
      "|  2|79f9566a-b9fc-44b...|   1|\n",
      "|  3|9f8ea8a8-97cd-44b...|   1|\n",
      "|  4|3dca3b34-5210-4aa...|   1|\n",
      "|  5|65d97e4d-21f2-449...|   1|\n",
      "|  6|cee5a7ec-1962-40e...|   1|\n",
      "|  7|9a5088bc-21f3-4e1...|   1|\n",
      "|  8|c3a1d801-35f0-45f...|   1|\n",
      "|  9|f9c8c91b-24db-48d...|   1|\n",
      "| 10|3535e360-9244-46f...|   1|\n",
      "| 11|2e5c9611-a228-4e8...|   1|\n",
      "| 12|6efca41f-7b13-4f1...|   1|\n",
      "| 13|4c4ff81e-d5c1-4ec...|   1|\n",
      "| 14|7e3368f3-64cf-4af...|   1|\n",
      "| 15|3e250454-5a3d-473...|   1|\n",
      "| 16|48b89381-4eaa-49d...|   1|\n",
      "| 17|3fbeebb5-e13e-412...|   1|\n",
      "| 18|68ffe6c3-2096-43f...|   1|\n",
      "| 19|ba33e170-32a9-459...|   1|\n",
      "| 20|4a192a1e-d79e-459...|   1|\n",
      "+---+--------------------+----+\n",
      "only showing top 20 rows\n",
      "\n"
     ]
    }
   ],
   "source": [
    "df.withColumn(\"test\", parse_string(F.col(\"uuid\"))).show()"
   ]
  },
  {
   "cell_type": "code",
   "execution_count": null,
   "metadata": {},
   "outputs": [],
   "source": []
  }
 ],
 "metadata": {
  "kernelspec": {
   "display_name": "Python 3",
   "language": "python",
   "name": "python3"
  },
  "language_info": {
   "codemirror_mode": {
    "name": "ipython",
    "version": 3
   },
   "file_extension": ".py",
   "mimetype": "text/x-python",
   "name": "python",
   "nbconvert_exporter": "python",
   "pygments_lexer": "ipython3",
   "version": "3.7.5"
  }
 },
 "nbformat": 4,
 "nbformat_minor": 2
}
